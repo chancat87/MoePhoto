{
 "cells": [
  {
   "cell_type": "code",
   "execution_count": null,
   "source": [
    "%run -i rename.py"
   ],
   "outputs": [],
   "metadata": {}
  },
  {
   "cell_type": "code",
   "execution_count": null,
   "source": [
    "from models import Net2x, Net3x, Net4x, NetDN\n",
    "models = [\n",
    "    # model Class, kwargs, root, *paths\n",
    "    (Net2x, {}, 0, '../model/a2/model_new.pth', '../model/p2/model_new.pth'),\n",
    "    (Net3x, {}, 0, '../model/a3/model_new.pth', '../model/p3/model_new.pth'),\n",
    "    (Net4x, {}, 0, '../model/a4/model_new.pth', '../model/p4/model_new.pth'),\n",
    "    (NetDN, {}, 0, '../model/dn_lite5/model_new.pth', '../model/dn_lite10/model_new.pth', '../model/dn_lite15/model_new.pth')\n",
    "]"
   ],
   "outputs": [],
   "metadata": {}
  },
  {
   "cell_type": "code",
   "execution_count": null,
   "source": [
    "from models import RRDBNet\n",
    "models = [\n",
    "    (RRDBNet, {'num_in_ch': 3, 'num_out_ch': 3, 'scale': 2}, 'params_ema', '../model/gan/RealESRGAN_x2plus.pth'),\n",
    "    (RRDBNet, {'num_in_ch': 3, 'num_out_ch': 3}, 'params_ema', '../model/gan/RealESRGAN_x4plus.pth'),\n",
    "    (RRDBNet, {'num_in_ch': 3, 'num_out_ch': 3, 'num_block': 6}, 'params_ema', '../model/gan/RealESRGAN_x4plus_anime_6B.pth')\n",
    "]\n",
    "subs = [\n",
    "    (re.compile(r'(body.[\\d]+.rdb[\\d]+.)conv([\\d]+)(\\..*)'), lambda m: ''.join((m[1], 'conv.', str(int(m[2]) - 1), m[3])))\n",
    "]"
   ],
   "outputs": [],
   "metadata": {}
  },
  {
   "cell_type": "code",
   "execution_count": null,
   "source": [
    "rsts = [\n",
    "    # match, replace, with, suffix, insert\n",
    "    ((r'convt_F.\\.',), None, None, '', '0.')\n",
    "]"
   ],
   "outputs": [],
   "metadata": {}
  },
  {
   "cell_type": "code",
   "execution_count": null,
   "source": [
    "m = renameByRules(models, subs=subs)"
   ],
   "outputs": [],
   "metadata": {}
  },
  {
   "cell_type": "code",
   "execution_count": null,
   "source": [
    "m = m.to(dtype=config.dtype(), device=config.device()).eval()\n",
    "opt = Option(models[-1][-1])\n",
    "opt.scale = 4\n",
    "opt.padding = 5\n",
    "opt.align = 32\n",
    "opt.ramCoef = 1 / 190000.\n",
    "opt.squeeze = lambda x: x.squeeze(0)\n",
    "opt.unsqueeze = lambda x: x.unsqueeze(0)\n",
    "opt.modelCached = m"
   ],
   "outputs": [],
   "metadata": {}
  },
  {
   "cell_type": "code",
   "execution_count": null,
   "source": [
    "original = readPic('../images/example1sn.png')\n",
    "show(original)"
   ],
   "outputs": [],
   "metadata": {}
  },
  {
   "cell_type": "code",
   "execution_count": null,
   "source": [
    "y = ensemble(opt)(original)\n",
    "show(y)"
   ],
   "outputs": [],
   "metadata": {}
  }
 ],
 "metadata": {
  "kernelspec": {
   "name": "python3",
   "display_name": "Python 3.9.6 64-bit ('py3.9': conda)"
  },
  "language_info": {
   "codemirror_mode": {
    "name": "ipython",
    "version": 3
   },
   "file_extension": ".py",
   "mimetype": "text/x-python",
   "name": "python",
   "nbconvert_exporter": "python",
   "pygments_lexer": "ipython3",
   "version": "3.9.6"
  },
  "interpreter": {
   "hash": "cb1d173abb92bc6ae0f321a36447476293ee5be482c96a6a55c9d6aec659483c"
  }
 },
 "nbformat": 4,
 "nbformat_minor": 2
}