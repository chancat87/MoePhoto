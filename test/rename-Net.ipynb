{
 "cells": [
  {
   "cell_type": "code",
   "execution_count": null,
   "source": [
    "%run -i rename.py"
   ],
   "outputs": [],
   "metadata": {}
  },
  {
   "cell_type": "code",
   "execution_count": null,
   "source": [
    "from models import Net2x, Net3x, Net4x, NetDN\n",
    "models = [\n",
    "    # model Class, kwargs, root, *paths\n",
    "    (Net2x, {}, 0, '../model/a2/model_new.pth', '../model/p2/model_new.pth'),\n",
    "    (Net3x, {}, 0, '../model/a3/model_new.pth', '../model/p3/model_new.pth'),\n",
    "    (Net4x, {}, 0, '../model/a4/model_new.pth', '../model/p4/model_new.pth'),\n",
    "    (NetDN, {}, 0, '../model/dn_lite5/model_new.pth', '../model/dn_lite10/model_new.pth', '../model/dn_lite15/model_new.pth')\n",
    "]\n",
    "rsts = [\n",
    "    # match, replace, with, suffix, insert\n",
    "    ((r'convt_F.\\.',), None, None, '', '0.')\n",
    "]"
   ],
   "outputs": [],
   "metadata": {}
  },
  {
   "cell_type": "code",
   "execution_count": null,
   "source": [
    "from models import RRDBNet\n",
    "models = [\n",
    "    (RRDBNet, {'num_in_ch': 3, 'num_out_ch': 3, 'scale': 2}, 'params_ema', '../model/gan/RealESRGAN_x2plus.pth'),\n",
    "    (RRDBNet, {'num_in_ch': 3, 'num_out_ch': 3}, 'params_ema', '../model/gan/RealESRGAN_x4plus.pth'),\n",
    "    (RRDBNet, {'num_in_ch': 3, 'num_out_ch': 3, 'num_block': 6}, 'params_ema', '../model/gan/RealESRGAN_x4plus_anime_6B.pth')\n",
    "]\n",
    "subs = [\n",
    "    (re.compile(r'(body.[\\d]+.rdb[\\d]+.)conv([\\d]+)(\\..*)'), lambda m: ''.join((m[1], 'conv.', str(int(m[2]) - 1), m[3])))\n",
    "]"
   ],
   "outputs": [],
   "metadata": {}
  },
  {
   "cell_type": "code",
   "execution_count": null,
   "source": [
    "from videoSR import modules\n",
    "rules = [o['weight'] for o in modules.values()]\n",
    "models = [\n",
    "  (None, {}, 'params', '../model/vsr/IconVSR_Vimeo90K_BDx4-cfcb7e00.pth')\n",
    "]\n",
    "rsts = [\n",
    "    # match, replace, with, suffix, insert\n",
    "    ((r'[^\\.]+_trunk\\.',), 'main.', '', None, None),\n",
    "]\n",
    "subs = [\n",
    "    # match, replace, with, suffix, insert\n",
    "    (re.compile(r'(spynet\\.basic_module\\.[\\d]+\\.)basic_module\\.(.*)'), r'\\1\\2'),\n",
    "    (re.compile(r'upconv1\\.(.*)'), r'upsample.0.\\1'),\n",
    "    (re.compile(r'upconv2\\.(.*)'), r'upsample.3.\\1'),\n",
    "    (re.compile(r'conv_hr\\.(.*)'), r'upsample.6.\\1'),\n",
    "    (re.compile(r'conv_last\\.(.*)'), r'upsample.8.\\1')\n",
    "]"
   ],
   "outputs": [],
   "metadata": {}
  },
  {
   "cell_type": "code",
   "execution_count": null,
   "source": [
    "m = renameByRules(models, rsts=rsts, subs=subs)"
   ],
   "outputs": [],
   "metadata": {}
  },
  {
   "cell_type": "code",
   "execution_count": null,
   "source": [
    "modelPath = '../model/vsr/IconVSR_Vimeo90K_BDx4-cfcb7e00.pth'\n",
    "# {'{name}.*' => '{name}': {'*'} for name in rules}\n",
    "namespaced = lambda w, rules:\\\n",
    "  dict((name, dict((key.removeprefix('{}.'.format(name)), w[key]) for key in getRoot(w, name))) for name in rules)\n",
    "\n",
    "w = namespaced(w, rules)\n",
    "pp(w)\n",
    "\n",
    "for key, o in modules.items():\n",
    "  m1 = o['f']()\n",
    "  print(key, m1.load_state_dict(w[key]))\n",
    "torch.save(w, modelPath, pickle_protocol=4)"
   ],
   "outputs": [],
   "metadata": {}
  },
  {
   "cell_type": "code",
   "execution_count": null,
   "source": [
    "modelPath = '../model/ESTRNN/ESTRNN_C80B15_BSD_1ms8ms.tar'\n",
    "o = torch.load(modelPath)\n",
    "pp(o['state_dict'])"
   ],
   "outputs": [],
   "metadata": {}
  },
  {
   "cell_type": "code",
   "execution_count": null,
   "source": [
    "from MPRNet import MPRNet\n",
    "models = [\n",
    "    # model Class, kwargs, root, *paths\n",
    "    (MPRNet, dict(n_feat=96, scale_unetfeats=48, scale_orsnetfeats=32), 'state_dict', '../model/MPRNet/model_deblurring.pth'),\n",
    "    (MPRNet, dict(n_feat=80, scale_unetfeats=48, scale_orsnetfeats=32), 'state_dict', '../model/MPRNet/model_denoising.pth'),\n",
    "    (MPRNet, dict(n_feat=40, scale_unetfeats=20, scale_orsnetfeats=16), 'state_dict', '../model/MPRNet/model_deraining.pth')\n",
    "]\n",
    "rsts = [\n",
    "    ((r'(.+\\.)body\\.',), 'body.', '', None, None),\n",
    "    ((r'(.+\\.)CA\\.',), 'CA.', '3.', None, None),\n",
    "]\n",
    "sm1 = lambda s: str(int(s) - 1)\n",
    "subs = [\n",
    "    (re.compile(r'shallow_feat([\\d]+)(\\..*)'), lambda m: ''.join(('shallow_feat.', sm1(m[1]), m[2]))),\n",
    "    (re.compile(r'(sam|concat)([\\d])[\\d](\\..*)'), lambda m: ''.join((m[1], '.', sm1(m[2]), m[3]))),\n",
    "    (re.compile(r'stage3_orsnet\\.orb([\\d]+)(\\..*)'), lambda m: ''.join(('stage3_orsnet.orb.', sm1(m[1]), m[2]))),\n",
    "    (re.compile(r'stage3_orsnet\\.up_(enc|dec)1\\.up(\\..*)'), lambda m: ''.join(('stage3_orsnet.conv_', m[1], '.1.0', m[2]))),\n",
    "    (re.compile(r'stage3_orsnet\\.up_(enc|dec)([\\d]+)\\.([\\d]+)\\.up(\\..*)'), lambda m: ''.join(('stage3_orsnet.conv_', m[1], '.', m[2], '.', m[3], m[4]))),\n",
    "    (re.compile(r'stage3_orsnet\\.conv_(enc|dec)([\\d]+)(\\..*)'), lambda m: ''.join(('stage3_orsnet.conv_', m[1], '.', sm1(m[2]), '.', sm1(m[2]), m[3]))),\n",
    "    (re.compile(r'stage3_orsnet\\.(.*)'), r'encoder.2.\\1'),\n",
    "    (re.compile(r'(stage[\\d]+_encoder\\.encoder_level[\\d]+\\.)([\\d]+)(\\..*)'), lambda m: ''.join((m[1], str(int(m[2]) + 1), m[3]))),\n",
    "    (re.compile(r'stage([\\d]+)_(encoder|decoder)\\.(encoder|decoder)_level([\\d]+)(\\..*)'), lambda m: ''.join((m[2], '.', sm1(m[1]), '.', m[3], '.', sm1(m[4]), m[5]))),\n",
    "    (re.compile(r'stage([\\d]+)_encoder\\.down([\\d])[\\d]\\.down(\\..*)'), lambda m: ''.join(('encoder.', sm1(m[1]), '.encoder.', m[2], '.0', m[3]))),\n",
    "    (re.compile(r'stage([\\d]+)_encoder\\.(csff_enc|csff_dec)([\\d]+)(\\..*)'), lambda m: ''.join(('encoder.', sm1(m[1]), '.', m[2], '.', sm1(m[3]), m[4]))),\n",
    "    (re.compile(r'([^\\.]+\\.)skip_attn([\\d]+)(\\..*)'), lambda m: ''.join((m[1], 'skip_attn.', sm1(m[2]), m[3]))),\n",
    "    (re.compile(r'(stage[\\d]+_decoder\\.up)[\\d]([\\d])(\\..*)'), lambda m: ''.join((m[1], '.', sm1(m[2]), m[3]))),\n",
    "    (re.compile(r'stage([\\d])_(encoder|decoder)(\\..*)'), lambda m: ''.join((m[2], '.', sm1(m[1]), m[3])))\n",
    "]"
   ],
   "outputs": [],
   "metadata": {}
  },
  {
   "cell_type": "code",
   "execution_count": null,
   "source": [
    "for param in m.parameters():\n",
    "  param.requires_grad_(False)\n",
    "m = m.to(dtype=config.dtype(), device=config.device()).eval()\n",
    "opt = Option(models[-1][-1])\n",
    "opt.scale = 1\n",
    "opt.padding = 5\n",
    "opt.align = 8\n",
    "opt.ramCoef = 1 / 10000.\n",
    "opt.squeeze = lambda x: x.squeeze(0)\n",
    "opt.unsqueeze = lambda x: x.unsqueeze(0)\n",
    "opt.modelCached = m"
   ],
   "outputs": [],
   "metadata": {}
  },
  {
   "cell_type": "code",
   "execution_count": null,
   "source": [
    "original = readPic('../images/example1sn.png')\n",
    "show(original)"
   ],
   "outputs": [],
   "metadata": {}
  },
  {
   "cell_type": "code",
   "execution_count": null,
   "source": [
    "y = ensemble(opt)(original)\n",
    "show(y)"
   ],
   "outputs": [],
   "metadata": {}
  }
 ],
 "metadata": {
  "kernelspec": {
   "name": "python3",
   "display_name": "Python 3.9.7 64-bit ('py3.9': conda)"
  },
  "language_info": {
   "codemirror_mode": {
    "name": "ipython",
    "version": 3
   },
   "file_extension": ".py",
   "mimetype": "text/x-python",
   "name": "python",
   "nbconvert_exporter": "python",
   "pygments_lexer": "ipython3",
   "version": "3.9.7"
  },
  "interpreter": {
   "hash": "cb1d173abb92bc6ae0f321a36447476293ee5be482c96a6a55c9d6aec659483c"
  }
 },
 "nbformat": 4,
 "nbformat_minor": 2
}