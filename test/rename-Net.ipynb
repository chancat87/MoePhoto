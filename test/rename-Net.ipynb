{
 "cells": [
  {
   "cell_type": "code",
   "execution_count": null,
   "source": [
    "%run -i rename.py"
   ],
   "outputs": [],
   "metadata": {}
  },
  {
   "cell_type": "code",
   "execution_count": null,
   "source": [
    "from models import Net2x, Net3x, Net4x, NetDN\n",
    "models = [\n",
    "    # model Class, kwargs, root, *paths\n",
    "    (Net2x, {}, 0, '../model/a2/model_new.pth', '../model/p2/model_new.pth'),\n",
    "    (Net3x, {}, 0, '../model/a3/model_new.pth', '../model/p3/model_new.pth'),\n",
    "    (Net4x, {}, 0, '../model/a4/model_new.pth', '../model/p4/model_new.pth'),\n",
    "    (NetDN, {}, 0, '../model/dn_lite5/model_new.pth', '../model/dn_lite10/model_new.pth', '../model/dn_lite15/model_new.pth')\n",
    "]\n",
    "rsts = [\n",
    "    # match, replace, with, suffix, insert\n",
    "    ((r'convt_F.\\.',), None, None, '', '0.')\n",
    "]"
   ],
   "outputs": [],
   "metadata": {}
  },
  {
   "cell_type": "code",
   "execution_count": null,
   "source": [
    "from models import RRDBNet\n",
    "models = [\n",
    "    (RRDBNet, {'num_in_ch': 3, 'num_out_ch': 3, 'scale': 2}, 'params_ema', '../model/gan/RealESRGAN_x2plus.pth'),\n",
    "    (RRDBNet, {'num_in_ch': 3, 'num_out_ch': 3}, 'params_ema', '../model/gan/RealESRGAN_x4plus.pth'),\n",
    "    (RRDBNet, {'num_in_ch': 3, 'num_out_ch': 3, 'num_block': 6}, 'params_ema', '../model/gan/RealESRGAN_x4plus_anime_6B.pth')\n",
    "]\n",
    "subs = [\n",
    "    (re.compile(r'(body.[\\d]+.rdb[\\d]+.)conv([\\d]+)(\\..*)'), lambda m: ''.join((m[1], 'conv.', str(int(m[2]) - 1), m[3])))\n",
    "]"
   ],
   "outputs": [],
   "metadata": {}
  },
  {
   "cell_type": "code",
   "execution_count": null,
   "source": [
    "from videoSR import modules\n",
    "rules = [o['weight'] for o in modules.values()]\n",
    "models = [\n",
    "  (None, {}, 'params', '../model/vsr/IconVSR_Vimeo90K_BDx4-cfcb7e00.pth')\n",
    "]\n",
    "rsts = [\n",
    "    # match, replace, with, suffix, insert\n",
    "    ((r'[^\\.]+_trunk\\.',), 'main.', '', None, None),\n",
    "]\n",
    "subs = [\n",
    "    # match, replace, with, suffix, insert\n",
    "    (re.compile(r'(spynet\\.basic_module\\.[\\d]+\\.)basic_module\\.(.*)'), r'\\1\\2'),\n",
    "    (re.compile(r'upconv1\\.(.*)'), r'upsample.0.\\1'),\n",
    "    (re.compile(r'upconv2\\.(.*)'), r'upsample.3.\\1'),\n",
    "    (re.compile(r'conv_hr\\.(.*)'), r'upsample.6.\\1'),\n",
    "    (re.compile(r'conv_last\\.(.*)'), r'upsample.8.\\1')\n",
    "]"
   ],
   "outputs": [],
   "metadata": {}
  },
  {
   "cell_type": "code",
   "execution_count": null,
   "source": [
    "w = renameByRules(models, rsts=rsts, subs=subs)"
   ],
   "outputs": [],
   "metadata": {}
  },
  {
   "cell_type": "code",
   "execution_count": null,
   "source": [
    "modelPath = '../model/vsr/IconVSR_Vimeo90K_BDx4-cfcb7e00.pth'\n",
    "# {'{name}.*' => '{name}': {'*'} for name in rules}\n",
    "namespaced = lambda w, rules:\\\n",
    "  dict((name, dict((key.removeprefix('{}.'.format(name)), w[key]) for key in getRoot(w, name))) for name in rules)\n",
    "\n",
    "w = namespaced(w, rules)\n",
    "pp(w)\n",
    "\n",
    "for key, o in modules.items():\n",
    "  m1 = o['f']()\n",
    "  print(key, m1.load_state_dict(w[key]))\n",
    "torch.save(w, modelPath, pickle_protocol=4)"
   ],
   "outputs": [],
   "metadata": {}
  },
  {
   "cell_type": "code",
   "execution_count": null,
   "source": [
    "modelPath = '../model/ESTRNN/ESTRNN_C80B15_BSD_1ms8ms.tar'\n",
    "o = torch.load(modelPath)\n",
    "pp(o['state_dict'])"
   ],
   "outputs": [],
   "metadata": {}
  },
  {
   "cell_type": "code",
   "execution_count": null,
   "source": [
    "m = m.to(dtype=config.dtype(), device=config.device()).eval()\n",
    "opt = Option(models[-1][-1])\n",
    "opt.scale = 4\n",
    "opt.padding = 5\n",
    "opt.align = 32\n",
    "opt.ramCoef = 1 / 190000.\n",
    "opt.squeeze = lambda x: x.squeeze(0)\n",
    "opt.unsqueeze = lambda x: x.unsqueeze(0)\n",
    "opt.modelCached = m"
   ],
   "outputs": [],
   "metadata": {}
  },
  {
   "cell_type": "code",
   "execution_count": null,
   "source": [
    "original = readPic('../images/example1sn.png')\n",
    "show(original)"
   ],
   "outputs": [],
   "metadata": {}
  },
  {
   "cell_type": "code",
   "execution_count": null,
   "source": [
    "y = ensemble(opt)(original)\n",
    "show(y)"
   ],
   "outputs": [],
   "metadata": {}
  }
 ],
 "metadata": {
  "kernelspec": {
   "name": "python3",
   "display_name": "Python 3.9.7 64-bit ('py3.9': conda)"
  },
  "language_info": {
   "codemirror_mode": {
    "name": "ipython",
    "version": 3
   },
   "file_extension": ".py",
   "mimetype": "text/x-python",
   "name": "python",
   "nbconvert_exporter": "python",
   "pygments_lexer": "ipython3",
   "version": "3.9.7"
  },
  "interpreter": {
   "hash": "cb1d173abb92bc6ae0f321a36447476293ee5be482c96a6a55c9d6aec659483c"
  }
 },
 "nbformat": 4,
 "nbformat_minor": 2
}