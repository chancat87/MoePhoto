{
 "cells": [
  {
   "cell_type": "code",
   "execution_count": null,
   "metadata": {},
   "outputs": [],
   "source": [
    "%run -i rename.py"
   ]
  },
  {
   "cell_type": "code",
   "execution_count": null,
   "metadata": {},
   "outputs": [],
   "source": [
    "from torchvision.io import read_image, write_jpeg, read_video, write_video\n",
    "#filename = '../upload/v/{}.png'\n",
    "#video = torch.stack([read_image(filename.format(str(i).zfill(8))) for i in range(62)])\n",
    "video, audio, metadata = read_video('realshort.mp4')\n",
    "video.shape, video.dtype"
   ]
  },
  {
   "cell_type": "code",
   "execution_count": null,
   "metadata": {},
   "outputs": [],
   "source": [
    "from videoSR import doVSR, modules, ramCoef\n",
    "from runSlomo import getOptP, getOptS\n",
    "from progress import Node\n",
    "modelPath = '../model/vsr/IconVSR_Vimeo90K_BDx4-cfcb7e00.pth'\n",
    "opt = getOptP(getOptS(modelPath, modules, ramCoef))\n",
    "opt.start = 3\n",
    "opt.end = -3\n",
    "identity = lambda x=None, *_: x\n",
    "p = doVSR(identity, Node({'IconVSR': 'VSR'}, learn=0), opt)\n",
    "from imageProcess import extend\n",
    "val_range = 2.0 ** 8\n",
    "inp = video.permute(0, 3, 1, 2).to(dtype=config.dtype(), device=config.device()) / val_range\n"
   ]
  },
  {
   "cell_type": "code",
   "execution_count": null,
   "metadata": {},
   "outputs": [],
   "source": [
    "res = []\n",
    "for frame in inp:\n",
    "  extend(res, p(frame))\n",
    "extend(res, p(None))\n",
    "x = torch.stack(res)\n",
    "output = (x * val_range).clamp_(0, val_range - 1)\n",
    "video = output.to(dtype=torch.uint8, device=torch.device('cpu')).permute(0, 2, 3, 1)\n",
    "video.shape, x.mean(), x.abs().max(), (x > 1).sum() / x.nelement()"
   ]
  },
  {
   "cell_type": "code",
   "execution_count": null,
   "metadata": {},
   "outputs": [],
   "source": [
    "from basicvsr_arch import IconVSR\n",
    "modelPath = './IconVSR_Vimeo90K_BDx4-cfcb7e00.pth'\n",
    "m = IconVSR(keyframe_stride=7, temporal_padding=3, num_block=30)\n",
    "m.load_state_dict(torch.load(modelPath, map_location='cpu')['params'])\n",
    "for param in m.parameters():\n",
    "  param.requires_grad_(False)\n",
    "m.eval()\n",
    "m = m.to(dtype=config.dtype(), device=config.device())\n",
    "val_range = 2.0 ** 8\n",
    "inp = video.permute(0, 3, 1, 2).unsqueeze(0).to(dtype=config.dtype(), device=config.device()) / val_range\n"
   ]
  },
  {
   "cell_type": "code",
   "execution_count": null,
   "metadata": {},
   "outputs": [],
   "source": [
    "x = m(inp)\n",
    "output = (x * val_range).clamp_(0, val_range - 1)\n",
    "video = output.to(dtype=torch.uint8, device=torch.device('cpu')).squeeze(0).permute(0, 2, 3, 1)\n",
    "video.shape, x.mean(), x.abs().max(), (x > 1).sum() / x.nelement()"
   ]
  },
  {
   "cell_type": "code",
   "execution_count": null,
   "metadata": {},
   "outputs": [],
   "source": [
    "def normalize(x, centralize=False, normalize=False, val_range=255.0):\n",
    "    if centralize:\n",
    "        x = x - val_range / 2\n",
    "    if normalize:\n",
    "        x = x / val_range\n",
    "\n",
    "    return x\n",
    "\n",
    "\n",
    "def normalize_reverse(x, centralize=False, normalize=False, val_range=255.0):\n",
    "    if normalize:\n",
    "        x = x * val_range\n",
    "    if centralize:\n",
    "        x = x + val_range / 2\n",
    "\n",
    "    return x.clamp(0, val_range - 1)\n",
    "val_range = 2.0 ** 8\n",
    "inp = video.to(dtype=config.dtype(), device=config.device())\n",
    "inp = normalize(inp, centralize=para.centralize, normalize=para.normalize, val_range=val_range).unsqueeze(0)\n",
    "output = normalize_reverse(m(inp).squeeze(0), centralize=para.centralize, normalize=para.normalize, val_range=val_range)\n",
    "video = output.to(dtype=torch.uint8, device=torch.device('cpu'))\n",
    "video.shape"
   ]
  },
  {
   "cell_type": "code",
   "execution_count": null,
   "metadata": {},
   "outputs": [],
   "source": [
    "filename = '../download/target/{}.jpg'\n",
    "for i, img in enumerate(video.permute(0, 3, 1, 2)):\n",
    "  write_jpeg(img.to(dtype=torch.uint8), filename.format(str(i).zfill(2)), quality=98)"
   ]
  },
  {
   "cell_type": "code",
   "execution_count": null,
   "metadata": {},
   "outputs": [],
   "source": [
    "write_video('../download/target.mp4',\n",
    "  video_array=video, fps=metadata['video_fps'], audio_array=audio, audio_fps=metadata['audio_fps'], audio_codec='aac')"
   ]
  }
 ],
 "metadata": {
  "interpreter": {
   "hash": "ec988e9570e5c851985c453e1f4c0a3f4576c4ac3bfa2d87d574a812d35a4363"
  },
  "kernelspec": {
   "display_name": "Python 3.9.7 64-bit ('py3.9': conda)",
   "name": "python3"
  },
  "language_info": {
   "codemirror_mode": {
    "name": "ipython",
    "version": 3
   },
   "file_extension": ".py",
   "mimetype": "text/x-python",
   "name": "python",
   "nbconvert_exporter": "python",
   "pygments_lexer": "ipython3",
   "version": "3.9.7"
  },
  "orig_nbformat": 4
 },
 "nbformat": 4,
 "nbformat_minor": 2
}
