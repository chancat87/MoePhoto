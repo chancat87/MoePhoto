{
 "cells": [
  {
   "cell_type": "code",
   "execution_count": 1,
   "metadata": {},
   "outputs": [
    {
     "name": "stdout",
     "output_type": "stream",
     "text": [
      "10560667648 bytes of graphical memory available.\n",
      "11551571968 bytes of graphical memory available.\n"
     ]
    }
   ],
   "source": [
    "%run -i rename.py"
   ]
  },
  {
   "cell_type": "code",
   "execution_count": null,
   "metadata": {},
   "outputs": [],
   "source": [
    "from torchvision.io import read_image, write_jpeg\n",
    "filename = '../upload/v/{}.png'\n",
    "video = torch.stack([read_image(filename.format(str(i).zfill(8))) for i in range(62)])\n",
    "# video, audio, metadata = read_video('realshort.mp4')\n",
    "video.shape"
   ]
  },
  {
   "cell_type": "code",
   "execution_count": null,
   "metadata": {},
   "outputs": [],
   "source": [
    "def normalize(x, centralize=False, normalize=False, val_range=255.0):\n",
    "    if centralize:\n",
    "        x = x - val_range / 2\n",
    "    if normalize:\n",
    "        x = x / val_range\n",
    "\n",
    "    return x\n",
    "\n",
    "\n",
    "def normalize_reverse(x, centralize=False, normalize=False, val_range=255.0):\n",
    "    if normalize:\n",
    "        x = x * val_range\n",
    "    if centralize:\n",
    "        x = x + val_range / 2\n",
    "\n",
    "    return x.clamp(0, val_range - 1)\n",
    "val_range = 2.0 ** 8\n",
    "inp = video.to(dtype=config.dtype(), device=config.device())\n",
    "inp = normalize(inp, centralize=para.centralize, normalize=para.normalize, val_range=val_range).unsqueeze(0)\n",
    "output = normalize_reverse(m(inp).squeeze(0), centralize=para.centralize, normalize=para.normalize, val_range=val_range)\n",
    "video = output.to(dtype=torch.uint8, device=torch.device('cpu'))\n",
    "video.shape"
   ]
  },
  {
   "cell_type": "code",
   "execution_count": null,
   "metadata": {},
   "outputs": [],
   "source": [
    "filename = '../download/target/{}.png'\n",
    "for i, img in enumerate(video):\n",
    "  write_jpeg(img.to(dtype=torch.uint8), filename.format(str(i + 2).zfill(2)), quality=98)"
   ]
  },
  {
   "cell_type": "code",
   "execution_count": null,
   "metadata": {},
   "outputs": [],
   "source": [
    "write_video('../download/target.mp4', video_array=video, fps=24)"
   ]
  }
 ],
 "metadata": {
  "interpreter": {
   "hash": "ec988e9570e5c851985c453e1f4c0a3f4576c4ac3bfa2d87d574a812d35a4363"
  },
  "kernelspec": {
   "display_name": "Python 3.9.7 64-bit ('py3.9': conda)",
   "name": "python3"
  },
  "language_info": {
   "codemirror_mode": {
    "name": "ipython",
    "version": 3
   },
   "file_extension": ".py",
   "mimetype": "text/x-python",
   "name": "python",
   "nbconvert_exporter": "python",
   "pygments_lexer": "ipython3",
   "version": "3.9.7"
  },
  "orig_nbformat": 4
 },
 "nbformat": 4,
 "nbformat_minor": 2
}
