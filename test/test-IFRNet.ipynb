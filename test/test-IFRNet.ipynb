{
 "cells": [
  {
   "cell_type": "code",
   "execution_count": null,
   "metadata": {},
   "outputs": [],
   "source": [
    "%run -i rename.py"
   ]
  },
  {
   "cell_type": "code",
   "execution_count": null,
   "metadata": {},
   "outputs": [],
   "source": [
    "from tqdm import tqdm\n",
    "import torch\n",
    "from torchvision.io import read_video, write_video\n",
    "video, audio, metadata = read_video('F:/animation/t1.mkv')\n",
    "video.shape, video.dtype"
   ]
  },
  {
   "cell_type": "code",
   "execution_count": null,
   "metadata": {},
   "outputs": [],
   "source": [
    "from config import config\n",
    "val_range = 255.\n",
    "inp = video.permute(0, 3, 1, 2).to(dtype=config.dtype())"
   ]
  },
  {
   "cell_type": "code",
   "execution_count": null,
   "metadata": {},
   "outputs": [],
   "source": [
    "from IFRNet import doSlomo, getOpt\n",
    "from progress import Node\n",
    "from imageProcess import extend\n",
    "import os\n",
    "import os.path as osp\n",
    "os.chdir(osp.join(osp.dirname(osp.abspath(__file__)), '../'))\n",
    "opt = getOpt({'model': 'M', 'sf': 2.0})\n",
    "opt.start = 0\n",
    "identity = lambda x=None, *_: x\n",
    "p = doSlomo(identity, Node({'slomo': 'IFRNet'}, learn=0), opt)"
   ]
  },
  {
   "cell_type": "code",
   "execution_count": null,
   "metadata": {},
   "outputs": [],
   "source": [
    "res = []\n",
    "for frame in tqdm(inp):\n",
    "  extend(res, p(frame.to(device=config.device()) / val_range))\n",
    "extend(res, p(None))\n",
    "res = [(x * val_range).clamp_(0, val_range).cpu() for x in res]\n",
    "res = torch.stack(res)\n",
    "video = res.to(dtype=torch.uint8, device=torch.device('cpu')).permute(0, 2, 3, 1)\n",
    "video.shape"
   ]
  },
  {
   "cell_type": "code",
   "execution_count": null,
   "metadata": {},
   "outputs": [],
   "source": [
    "from IFRNet_Model import Model as IFRNet\n",
    "modelPath = './IFRNet_Vimeo90K.pth'\n",
    "m = IFRNet()\n",
    "m.load_state_dict(torch.load(modelPath, map_location='cpu'))\n",
    "for param in m.parameters():\n",
    "  param.requires_grad_(False)\n",
    "m.eval()\n",
    "m = m.to(dtype=config.dtype(), device=config.device())\n",
    "embt = torch.tensor(1/2).view(1, 1, 1, 1).to(dtype=config.dtype(), device=config.device())"
   ]
  },
  {
   "cell_type": "code",
   "execution_count": null,
   "metadata": {},
   "outputs": [],
   "source": [
    "from imageProcess import alignF, padImageReflect\n",
    "oriHeight, oriWidth = video.shape[1], video.shape[2]\n",
    "width, height = alignF[16](oriWidth), alignF[16](oriHeight)\n",
    "pad = padImageReflect((0, width - oriWidth, 0, height - oriHeight))\n",
    "unpad = lambda im: im[:, :oriHeight, :oriWidth]\n",
    "oriHeight, height"
   ]
  },
  {
   "cell_type": "code",
   "execution_count": null,
   "metadata": {},
   "outputs": [],
   "source": [
    "res = [inp[0]]\n",
    "inp0 = res[-1].to(device=config.device()) / val_range\n",
    "for inp1 in tqdm(inp[1:]):\n",
    "  inpIn = inp1.to(device=config.device()) / val_range\n",
    "  x = m.inference(pad(inp0.unsqueeze(0)), pad(inpIn.unsqueeze(0)), embt).squeeze(0)\n",
    "  output = (unpad(x) * val_range).clamp_(0, val_range).cpu()\n",
    "  res.append(output)\n",
    "  res.append(inp1)\n",
    "  inp0 = inpIn\n",
    "video = torch.stack(res).permute(0, 2, 3, 1).to(dtype=torch.uint8)\n",
    "video.shape, x.mean(), x.abs().max(), (x > 1).sum() / x.nelement()"
   ]
  },
  {
   "cell_type": "code",
   "execution_count": null,
   "metadata": {},
   "outputs": [],
   "source": [
    "os.chdir(osp.dirname(osp.abspath(__file__)))\n",
    "write_video('./download/target_m.mp4',\n",
    "  video_array=video, fps=metadata['video_fps'] * 2, audio_array=audio, audio_fps=metadata['audio_fps'], audio_codec='aac',\n",
    "  video_codec='hevc_nvenc',\n",
    "  options={'pix_fmt':'p010le', 'rc':'vbr', 'cq':'26', 'preset:v':'p7', 'profile:v': 'main', 'tune': 'hq', 'tier': 'high', 'bf': '5', 'b_ref_mode':'middle', 'spatial_aq':'1', 'temporal-aq': '1', 'nonref_p': '1', 'rc-lookahead': '53', 'keyint_min':'1'})"
   ]
  }
 ],
 "metadata": {
  "interpreter": {
   "hash": "ec988e9570e5c851985c453e1f4c0a3f4576c4ac3bfa2d87d574a812d35a4363"
  },
  "kernelspec": {
   "display_name": "Python 3.9.7 64-bit ('py3.9': conda)",
   "name": "python3"
  },
  "language_info": {
   "codemirror_mode": {
    "name": "ipython",
    "version": 3
   },
   "file_extension": ".py",
   "mimetype": "text/x-python",
   "name": "python",
   "nbconvert_exporter": "python",
   "pygments_lexer": "ipython3",
   "version": "3.10.11"
  },
  "orig_nbformat": 4
 },
 "nbformat": 4,
 "nbformat_minor": 2
}
